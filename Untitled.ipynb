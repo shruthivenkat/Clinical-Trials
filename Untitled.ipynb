{
 "cells": [
  {
   "cell_type": "code",
   "execution_count": 68,
   "id": "0f433822",
   "metadata": {},
   "outputs": [
    {
     "name": "stdout",
     "output_type": "stream",
     "text": [
      "[3, 0, 0, 0, 0]\n",
      "[3, 10, 0, 0, 0]\n",
      "[2, 10, 0, 0, 0]\n",
      "[1, 10, 0, 0, 0]\n",
      "[1, 10, 20, 0, 0]\n",
      "-----------\n",
      "3\n"
     ]
    }
   ],
   "source": [
    "NUMS = [3,10,2,1,20]\n",
    "tails = [0] * len(nums)\n",
    "size = 0\n",
    "for x in nums:\n",
    "    i, j = 0, size\n",
    "    while i != j:\n",
    "        m = (i + j) // 2\n",
    "        if tails[m] < x:\n",
    "            i = m + 1\n",
    "        else:\n",
    "            j = m\n",
    "    tails[i] = x\n",
    "    print(tails)\n",
    "    size = max(i + 1, size)\n",
    "print(\"-----------\")\n",
    "print(size)"
   ]
  },
  {
   "cell_type": "code",
   "execution_count": null,
   "id": "0e08013a",
   "metadata": {},
   "outputs": [],
   "source": []
  },
  {
   "cell_type": "code",
   "execution_count": null,
   "id": "6ea2534b",
   "metadata": {},
   "outputs": [],
   "source": []
  }
 ],
 "metadata": {
  "kernelspec": {
   "display_name": "Python 3 (ipykernel)",
   "language": "python",
   "name": "python3"
  },
  "language_info": {
   "codemirror_mode": {
    "name": "ipython",
    "version": 3
   },
   "file_extension": ".py",
   "mimetype": "text/x-python",
   "name": "python",
   "nbconvert_exporter": "python",
   "pygments_lexer": "ipython3",
   "version": "3.9.7"
  }
 },
 "nbformat": 4,
 "nbformat_minor": 5
}
