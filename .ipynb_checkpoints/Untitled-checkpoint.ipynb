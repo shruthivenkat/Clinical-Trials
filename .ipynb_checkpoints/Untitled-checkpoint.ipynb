{
 "cells": [
  {
   "cell_type": "code",
   "execution_count": 2,
   "id": "6f24e6ff",
   "metadata": {},
   "outputs": [
    {
     "data": {
      "text/plain": [
       "['', '[a]']"
      ]
     },
     "execution_count": 2,
     "metadata": {},
     "output_type": "execute_result"
    }
   ],
   "source": [
    "import re\n",
    "val = '3[a]'\n",
    "re.split('[1-9]',val)"
   ]
  },
  {
   "cell_type": "code",
   "execution_count": 4,
   "id": "6a4658c7",
   "metadata": {},
   "outputs": [
    {
     "name": "stdout",
     "output_type": "stream",
     "text": [
      "0\n",
      "1\n",
      "2\n",
      "3\n",
      "4\n",
      "5\n",
      "6\n",
      "7\n",
      "8\n"
     ]
    }
   ],
   "source": [
    "s = \"3[a]2[bc]\"\n",
    "i = 0\n",
    "stk = []\n",
    "while i != len(s):\n",
    "    print(i)\n",
    "    if s[i] == '[':\n",
    "        \n",
    "    i = i+1\n",
    "    "
   ]
  },
  {
   "cell_type": "code",
   "execution_count": 6,
   "id": "99aa2bd8",
   "metadata": {},
   "outputs": [],
   "source": [
    "stack = []\n",
    "stack.append([\"\", 1])"
   ]
  },
  {
   "cell_type": "code",
   "execution_count": null,
   "id": "dc77293f",
   "metadata": {},
   "outputs": [],
   "source": []
  }
 ],
 "metadata": {
  "kernelspec": {
   "display_name": "Python 3 (ipykernel)",
   "language": "python",
   "name": "python3"
  },
  "language_info": {
   "codemirror_mode": {
    "name": "ipython",
    "version": 3
   },
   "file_extension": ".py",
   "mimetype": "text/x-python",
   "name": "python",
   "nbconvert_exporter": "python",
   "pygments_lexer": "ipython3",
   "version": "3.9.7"
  }
 },
 "nbformat": 4,
 "nbformat_minor": 5
}
